{
 "cells": [
  {
   "cell_type": "code",
   "execution_count": 1,
   "metadata": {},
   "outputs": [
    {
     "name": "stdout",
     "output_type": "stream",
     "text": [
      "Bilangan prima terdekat < 12 adalah 11.\n"
     ]
    }
   ],
   "source": [
    "def bilanganPrima(num):\n",
    "    if num < 2:\n",
    "        return False\n",
    "    for i in range(2, int(num**0.5) + 1):\n",
    "        if num % i == 0:\n",
    "            return False\n",
    "    return True\n",
    "\n",
    "def primaTerdekat(n):\n",
    "    if n <= 2:\n",
    "        return None\n",
    "    for i in range(n - 1, 1, -1):\n",
    "        if bilanganPrima(i):\n",
    "            return i\n",
    "\n",
    "n = int(input(\"n: \"))\n",
    "\n",
    "bilangan_prima = primaTerdekat(n)\n",
    "\n",
    "if bilangan_prima:\n",
    "    print(f\"Bilangan prima terdekat < {n} adalah {bilangan_prima}.\")\n",
    "else:\n",
    "    print(f\"Tidak ada bilangan prima yang kurang dari {n}.\")\n"
   ]
  },
  {
   "cell_type": "code",
   "execution_count": 2,
   "metadata": {},
   "outputs": [
    {
     "name": "stdout",
     "output_type": "stream",
     "text": [
      "Bilangan prima terdekat < 21 adalah 19.\n"
     ]
    }
   ],
   "source": [
    "def bilanganPrima(num):\n",
    "    if num < 2:\n",
    "        return False\n",
    "    for i in range(2, int(num**0.5) + 1):\n",
    "        if num % i == 0:\n",
    "            return False\n",
    "    return True\n",
    "\n",
    "def primaTerdekat(n):\n",
    "    if n <= 2:\n",
    "        return None\n",
    "    for i in range(n - 1, 1, -1):\n",
    "        if bilanganPrima(i):\n",
    "            return i\n",
    "\n",
    "n = int(input(\"n: \"))\n",
    "\n",
    "bilangan_prima = primaTerdekat(n)\n",
    "\n",
    "if bilangan_prima:\n",
    "    print(f\"Bilangan prima terdekat < {n} adalah {bilangan_prima}.\")\n",
    "else:\n",
    "    print(f\"Tidak ada bilangan prima yang kurang dari {n}.\")\n"
   ]
  },
  {
   "cell_type": "code",
   "execution_count": 4,
   "metadata": {},
   "outputs": [
    {
     "name": "stdout",
     "output_type": "stream",
     "text": [
      "720 6 5 4 3 2 1 \n",
      "120 5 4 3 2 1 \n",
      "24 4 3 2 1 \n",
      "6 3 2 1 \n",
      "2 2 1 \n",
      "1 1 \n"
     ]
    }
   ],
   "source": [
    "def deret(num):\n",
    "    result = 1\n",
    "    for i in range(2, num + 1):\n",
    "        result *= i\n",
    "    return result\n",
    "\n",
    "def faktorial(n):\n",
    "    for i in range(n, 0, -1):\n",
    "        print(deret(i), end=\" \")\n",
    "        for j in range(i, 0, -1):\n",
    "            print(j, end=\" \")\n",
    "        print()\n",
    "\n",
    "n = int(input(\"n: \"))\n",
    "faktorial(n)\n"
   ]
  },
  {
   "cell_type": "code",
   "execution_count": 5,
   "metadata": {},
   "outputs": [
    {
     "name": "stdout",
     "output_type": "stream",
     "text": [
      "1 2 3 4 \n",
      "5 6 7 8 \n",
      "9 10 11 12 \n",
      "13 14 15 16 \n",
      "17 18 19 20 \n"
     ]
    }
   ],
   "source": [
    "tinggi = int(input(\"tinggi deret: \"))\n",
    "lebar = int(input(\"lebar deret: \"))\n",
    "num = 1\n",
    "    \n",
    "for i in range(tinggi):\n",
    "        for j in range(lebar):\n",
    "            print(num, end=\" \")\n",
    "            num += 1\n",
    "        print()"
   ]
  }
 ],
 "metadata": {
  "kernelspec": {
   "display_name": "Python 3",
   "language": "python",
   "name": "python3"
  },
  "language_info": {
   "codemirror_mode": {
    "name": "ipython",
    "version": 3
   },
   "file_extension": ".py",
   "mimetype": "text/x-python",
   "name": "python",
   "nbconvert_exporter": "python",
   "pygments_lexer": "ipython3",
   "version": "3.12.0"
  }
 },
 "nbformat": 4,
 "nbformat_minor": 2
}
